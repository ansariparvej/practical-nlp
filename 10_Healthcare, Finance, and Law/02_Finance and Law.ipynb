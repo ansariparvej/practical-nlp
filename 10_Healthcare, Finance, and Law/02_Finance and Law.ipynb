{
 "cells": [
  {
   "cell_type": "markdown",
   "metadata": {},
   "source": [
    "# Finance\n",
    "\n",
    "In the context of integrating and utilizing NLP in the context of finance frameworks, operations, reporting, and evaluation, we can look at finance from the following three angles:\n",
    "- Organization Perspective: Different organization types have different requirements and perspectives that need to be taken into account.\n",
    "    - Private companies\n",
    "    - Public companies\n",
    "    - Non-profit companies\n",
    "    - Governmental organizations\n",
    "- Actions\n",
    "    - Allocating and reallocating funds\n",
    "    - Accounting and auditing, which includes identifying anomalies and outliers to investigate for both value and risk\n",
    "    - Prioritization and resource planning\n",
    "    - Compliance with legal and policy norms\n",
    "- Financial context\n",
    "    - Forecasting and budgeting\n",
    "    - Retail banking\n",
    "    - Investment banking\n",
    "    - Stock market operations\n",
    "    - Cryptocurrency operations\n",
    "    \n",
    "## NLP Applications in Finance\n",
    "\n",
    "- Financial Sentiment\n",
    "\n",
    "Stock market trading relies on a set of information about specific companies. This knowledge helps create a set of actions that determine whether to buy, hold, or sell off stock. This analysis can be based on companies’ quarterly financial reports or on what analysts are commenting about the companies in their reports. This can also come from social media.\n",
    "\n",
    "The purpose is to guess how the markets will react to a piece of news, as opposed to whether the news is inherently positive or not.\n",
    "\n",
    "FinBERT uses a subset of financial news from Reuters. For sentiment classification, it uses Financial PhraseBank, which has over 4,000 sentences labeled by people with backgrounds in business and finance. Unlike regular sentiment analysis, where positive means that something is of positive emotion, in Financial PhraseBank, a positive sentiment indicates that the stock price of the company will increase based on the news in the sentence.\n",
    "\n",
    "- Risk Assessment\n",
    "\n",
    "NLP techniques can add a lot more data points that can be used to assess credit risk. For example, in business loans, entrepreneurial ability and attitude can be measured using NLP. This approach is used by Capital Float and Microbnk. Similarly, incoherencies in data provided by the borrower can also be surfaced for more scrutiny. Other more nuanced aspects, such as lenders’ and borrowers’ emotions while applying for a loan, can also be incorporated.\n",
    "\n",
    "Often in personal loan agreements, various information has to be captured from loan documents, which are then fed to credit risk models. The information captured helps in identifying credit risk, and erroneous data extraction from these documents can lead to flawed assessments. Named entity recognition (NER) can improve this.\n",
    "\n",
    "- Accounting and Auditing\n",
    "\n",
    "While applying aspects of NLP and ML to areas like contract document reviews and long-term procurement agreements, Deloitte, for example, has evolved its Audit Command Language into a more efficient NLP application.\n",
    "\n",
    "In addition, after decades of long, drawn-out ticking and tying of reams of endless, typical day-to-day transactions and other pieces of paper like invoices, companies have finally realized that NLP and ML has a significant advantage in the audit process. This advantage manifests in the direct identification, focus, visualization, and trend analysis of outliers in transaction types. Time and effort are spent on the investigation of these outliers and their causes. This results in early identification of potentially significant risks and possible fraudulent activity like money laundering along with potentially value-generating activities that can be emulated and extrapolated across a company and customized for various business processes."
   ]
  },
  {
   "cell_type": "code",
   "execution_count": 1,
   "metadata": {},
   "outputs": [],
   "source": [
    "# Google Colab for FinBERT\n",
    "# https://colab.research.google.com/drive/1Ih4P7xq2VyGf4Bg3rGFcnHAycgNpxU-T?usp=sharing"
   ]
  },
  {
   "cell_type": "markdown",
   "metadata": {},
   "source": [
    "# NLP and the Legal Landscape\n",
    "\n",
    "Some core tasks where NLP helps legal services include:\n",
    "\n",
    "- Legal research\n",
    "\n",
    "This involves finding relevant information for a specific case, including searching both legislatures and case law and regulations. One such service is ROSS Intelligence. It allows matching of facts and relevant cases and also analyzes legal documents.\n",
    "\n",
    "![alt text](https://learning.oreilly.com/library/view/practical-natural-language/9781492054047/assets/pnlp_1018.png)\n",
    "\n",
    "- Contract review\n",
    "\n",
    "This refers to reviewing a contract and making sure it follows a set of norms and regulations. It involves making comments and suggesting edits for different clauses. One example is SpotDraft, which focuses on GPDR-based regulations.\n",
    "\n",
    "- Contract generation\n",
    "\n",
    "This refers to generating contracts based on a question-and-answer setup. Simple cases may just require a simple form, whereas for more complex cases, an interactive chatbot system may be more suitable. After taking in all the responses, a slot-filling algorithm generates the contract.\n",
    "\n",
    "- Legal Discovery\n",
    "\n",
    "This refers to finding anomalies and patterns in electronically stored information that can be used for the case. In some cases, this discovery is completely unsupervised. In other cases, it can involve more active learning (i.e., providing an initial set of tagged documents). One such product is siren.io, which aids discovery for intelligence, law enforcement, cyber security, and financial crime domains.\n",
    "\n",
    "## Legal Entity Extraction with LexNLP\n",
    "\n",
    "LexNLP helps us segment documents into sections and extract facts like recurring contract dates or regulations. LexNLP also provides legal dictionaries and knowledge sets for multiple countries for accounting, financial information, regulators, and legal and medical areas. It also integrates with ContraxSuite, which allows us to deduplicate documents, cluster legal entities according to how they’re mentioned, and so on. When building custom applications, we can also inject code to build on the baseline platform.\n",
    "\n",
    "Clustering of legal entities from a set of documents\n",
    "\n",
    "![alt text](https://learning.oreilly.com/library/view/practical-natural-language/9781492054047/assets/pnlp_1020.png)"
   ]
  },
  {
   "cell_type": "code",
   "execution_count": 2,
   "metadata": {},
   "outputs": [],
   "source": [
    "# Google Colab for LexNLP\n",
    "# https://colab.research.google.com/drive/1oPLmrIp0gfSjW2CeGgxBbqoIxDI9DTXj?usp=sharing"
   ]
  },
  {
   "cell_type": "code",
   "execution_count": null,
   "metadata": {},
   "outputs": [],
   "source": []
  }
 ],
 "metadata": {
  "kernelspec": {
   "display_name": "Python 3",
   "language": "python",
   "name": "python3"
  },
  "language_info": {
   "codemirror_mode": {
    "name": "ipython",
    "version": 3
   },
   "file_extension": ".py",
   "mimetype": "text/x-python",
   "name": "python",
   "nbconvert_exporter": "python",
   "pygments_lexer": "ipython3",
   "version": "3.7.9"
  }
 },
 "nbformat": 4,
 "nbformat_minor": 4
}
