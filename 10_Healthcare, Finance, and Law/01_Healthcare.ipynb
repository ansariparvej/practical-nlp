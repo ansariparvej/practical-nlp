{
 "cells": [
  {
   "cell_type": "markdown",
   "metadata": {},
   "source": [
    "# Healthcare\n",
    "\n",
    "Healthcare as an industry encompasses both goods (i.e., medicines and equipment) and services (consultation or diagnostic testing) for curative, preventive, palliative, and rehabilitative care.\n",
    "\n",
    "> NOTE: Curative care is provided to cure a patient suffering from a curable disease, and preventative care is meant to prevent one from falling sick. Rehabilitative care helps patients recuperate from illness and includes activities like physical therapy. Palliative care focuses on improving the quality of life for patients suffering from terminal conditions.\n",
    "\n",
    "NLP in healthcare usecases by Chilmark Research\n",
    "\n",
    "![alt text](https://learning.oreilly.com/library/view/practical-natural-language/9781492054047/assets/pnlp_1001.png)"
   ]
  },
  {
   "cell_type": "markdown",
   "metadata": {},
   "source": [
    "# Health and Medical Records\n",
    "\n",
    "A large proportion of health and medical data is often collected and stored in unstructured text formats. This includes medical notes, prescriptions, and audio transcripts, as well as pathology and radiology reports.\n",
    "\n",
    "NLP can help doctors search and analyze this data better and even automate some of the workflows, such as by building automated question-answering systems to decrease time to look up relevant patient information."
   ]
  },
  {
   "cell_type": "markdown",
   "metadata": {},
   "source": [
    "# Patient Priotization and Billing\n",
    "\n",
    "NLP techniques can be used on physician notes to understand their state and urgency to prioritize various health procedures and checkups. This can minimize delays and administrative errors and automate processes. Similarly, parsing and extracting information from unstructured notes to identify medical codes can facilitate billing."
   ]
  },
  {
   "cell_type": "markdown",
   "metadata": {},
   "source": [
    "# Pharmacovigilance\n",
    "\n",
    "Pharmacovigilance entails all activities that are needed to ensure that a drug is safe. This involves collection and detection and monitoring of adverse drug or medication reactions. A medical procedure or drug can have unintended or noxious effects, and monitoring and preventing these effects is essential to making sure the drug acts as intended. With increasing use of social media, more of such side effects are being mentioned in social media messages; monitoring and identifying these is part of the solution."
   ]
  },
  {
   "cell_type": "markdown",
   "metadata": {},
   "source": [
    "# Clinical Decision Support Systems\n",
    "\n",
    "Decision support systems assist medical workers in making healthcare-related decisions. These include screening, diagnosis, treatments, and monitoring. Various text data can be used as an input to these systems, including electronic health records, column-tabulated laboratory results, and operative notes."
   ]
  },
  {
   "cell_type": "markdown",
   "metadata": {},
   "source": [
    "# Health Assistants\n",
    "\n",
    "Health assistants and chatbots can improve the patient and caregiver experiences by using various aspects of expert systems and NLP. "
   ]
  },
  {
   "cell_type": "markdown",
   "metadata": {},
   "source": [
    "# Eletronic Health Records\n",
    "\n",
    "Increased adoption of storing clinical and healthcare data electronically has led to an explosion of medical data and overwhelmingly large personal records. With this increasing adoption and larger document size and history, it’s getting harder for doctors and clinical staff to access this data, leading to an information overload. This, in turn, leads to more errors, omissions, and delays and affects patient safety."
   ]
  },
  {
   "cell_type": "markdown",
   "metadata": {},
   "source": [
    "## HARVEST: Longitudinal Report Understanding\n",
    "\n",
    "HARVEST parses all of the medical data to make it easy to analyze and can sit on top of any medical system. Figure below demonstrates how HARVEST is used on the iNYP system, showing the revamped and evolved visual depiction of the formerly text-heavy reporting format.\n",
    "\n",
    "We can see a timeline of each visit to the clinic or hospital. It’s accompanied by a word cloud of important medical conditions for the patient in the given time range. The user can drill down to detailed notes and history if needed as well. All of this is also supported by summaries of each report so a user can get the gist of a patient’s medical history quickly. HARVEST is much more than a reformatted novelty—it’s extremely useful for giving not just doctors, but also general medical staff and caregivers, a near real-time, informative snapshot of what’s going on with a patient.\n",
    "\n",
    "![alt text](https://learning.oreilly.com/library/view/practical-natural-language/9781492054047/assets/pnlp_1006.png)\n",
    "\n",
    "HARVEST delivers understandable summaries and conclusions by collating a patient’s history of healthcare issues across their lifetime. Its unique selling point is that it can mine, extract, and visually present content at a macro level—based on detailed micro-level observations—irrespective of where and by whom in the hospital a patient might have been seen. Such systems can be built to visualize and analyze a large amount of information. When the underlying knowledge base is unstructured text, as it is in the case of EHRs, NLP techniques play a key role in such analytics and information visualization tools.\n",
    "\n",
    "![alt text](https://learning.oreilly.com/library/view/practical-natural-language/9781492054047/assets/pnlp_1007.png)"
   ]
  },
  {
   "cell_type": "markdown",
   "metadata": {},
   "source": [
    "# Question Anwering for Health\n",
    "\n",
    "Our focus here is on the nuances of questions that arise specifically in healthcare scenarios. For example, these questions can include:\n",
    "- What dosage of a particular medicine is a patient required to take?\n",
    "- For what ailment is a particular medication taken?\n",
    "- What were the results of a medical test?\n",
    "- By how much was the result of a medical test out of range for a given test date?\n",
    "- What lab test confirmed a particular disease?\n",
    "\n",
    "To create such datasets of questions and answers and build a QA system on them, a general question-answering dataset creation framework consists of:\n",
    "1. Collecting domain-specific questions and then normalizing them. For instance, a patient’s treatment can be asked about in multiple ways, like, “How was the problem managed?” or “What was done to correct the patient’s problem?” These all have to be normalized in the same logical form.\n",
    "2. Question templates are mapped with expert domain knowledge and logical forms are assigned to them. The question template is an abstract question. For example, for a certain type of question, we expect a number or a medication type as a response. More concretely, a question template is “What is the dosage of medication?”, which then maps to an exact question, like, “What is the dosage of Nitroglycerin?” This question is of a logical form that expects a dosage as response.\n",
    "3. Existing annotations and the information collected in (1) and (2) are used to create a range of question-and-answer pairs. Here, already available information like NE tags as well as answer types linked to the logical form are used to bootstrap data. This step is especially relevant, as it reduces the manual effort needed in the creation of the QA dataset.\n",
    "\n",
    "QA dataset generation using existing annotations\n",
    "![alt text](https://learning.oreilly.com/library/view/practical-natural-language/9781492054047/assets/pnlp_1009.png)"
   ]
  },
  {
   "cell_type": "markdown",
   "metadata": {},
   "source": [
    "# Outcome Prediction and Best Practices\n",
    "\n",
    "Health outcomes are a set of attributes that explain the consequences of a disease for a patient. They include how fast and how completely a patient recovers. They’re also important in measuring efficacies of different treatments. This [work](https://ai.googleblog.com/2018/05/deep-learning-for-electronic-health.html) is a joint collaboration between Google AI, Stanford Medicine, and UCSF.\n",
    "\n",
    "Another focus of scalable and accurate deep learning with electronic health records is to ensure that we can build models and systems that can be both scalable as well as highly accurate. Scalability is necessary, as healthcare has a diverse set of inputs—data collected from one hospital or department can be different from another. So it should be simple to train the system for a different outcome or different hospital. It’s necessary to be accurate in order not to raise too many false alarms; the need for accuracy is obvious in the healthcare industry, where people’s lives are on the line.\n",
    "\n",
    "It’s important in healthcare that models are interpretable. In other words, they should pinpoint why they suggested a particular outcome. Without interpretability, it’s hard for doctors to accommodate the results in their diagnosis. To achieve this, attention, a concept in deep learning, is used to understand what data points and incidents are most important for an outcome.\n",
    "\n",
    "An example of attention applied to health records.\n",
    "![alt text](https://learning.oreilly.com/library/view/practical-natural-language/9781492054047/assets/pnlp_1010.png)\n",
    "\n",
    "This Google AI team also came up with some of the best practices one should keep in mind while building ML models for healthcare, outlining ideas in all parts of the machine learning life cycle, from defining the problem and collecting data to validating the results. "
   ]
  },
  {
   "cell_type": "markdown",
   "metadata": {},
   "source": [
    "# Mental Healthcare Monitoring\n",
    "\n",
    "With social media usage at an all-time high, it’s increasingly possible to use signals from social media to track the emotional state and mental balance of both particular individuals and across groups of individuals. It should also be possible to gain insights into these aspects across various demographic groups, including age and gender.\n",
    "\n",
    "There are innumerable aspects to evaluating an individual’s mental well-being. The study by Glen Coppersmith et al. focuses, as an illustrative example, on utilizing social media in identifying individuals who are at risk for suicide. The goal of the study was to develop an early warning system along with identifying the root causes of the issues.\n",
    "\n",
    "In this study, 554 users were identified and evaluated who stated that they attempted to take their lives. 312 of these users gave an explicit indication of their latest suicide attempt. Profiles that were marked as private were not included in this study. They only examined public data, which does not include any direct messages or deleted posts.\n",
    "\n",
    "Each user’s tweets were analyzed with the following perspectives:\n",
    "- Is the user’s statement of attempting to take their life apparently genuine?\n",
    "- Is the user is speaking about their own suicide attempt?\n",
    "- Is the suicide attempt localizable in time?\n",
    "\n",
    "The first two tweets refer to genuine suicide attempts, while the bottom two are sarcastic or false statements. The middle two are examples where an explicit suicide attempt date is mentioned.\n",
    "\n",
    "![alt text](https://learning.oreilly.com/library/view/practical-natural-language/9781492054047/assets/pnlp_1011.png)\n",
    "\n",
    "In order to analyze the data, the following steps were followed:\n",
    "1. **Preprocessing:** normalized and cleaned data from social media.\n",
    "2. **Character models:** Character n-gram–based models followed by logistic regression were used to classify various tweets. Performance was measured with 10-fold cross validation.\n",
    "3. **Emotional states:** To estimate emotional content in tweets, a dataset was bootstrapped using hashtags. For instance, all tweets containing #anger but not containing #sarcasm and #jk were put into an emotional label. Tweets with no emotional content were also classified as No Emotion.\n",
    "\n",
    "Confusion matrix for emotion classification\n",
    "\n",
    "![alt text](https://learning.oreilly.com/library/view/practical-natural-language/9781492054047/assets/pnlp_1012.png)"
   ]
  },
  {
   "cell_type": "markdown",
   "metadata": {},
   "source": [
    "# Medical Information Extraction and Analysis\n",
    "\n",
    "Medical information extraction (IE) helps to identify clinical syndromes, medical conditions, medication, dosage, strength, and common biomedical concepts from health records, radiology reports, and discharge summaries, as well as nursing documentation and medical education documents.\n",
    "\n",
    "We can use Amazon Comprehend Medical as a cloud API on our medical text. Amazon Comprehend Medical helps process medical data, including medical named entity and relationship extraction and medical ontology linking.\n",
    "\n",
    "In order to build better models for biomedical data, BERT for Biomedical Text (BioBERT) was created. It adapts BERT to biomedical texts to get better performance. In the domain adaptation phase, we initialize the model weights with a standard BERT model and pre-trained biomedical texts, including texts from PubMed, a search engine for medical results.\n",
    "\n",
    "BioBERT\n",
    "\n",
    "![alt text](https://learning.oreilly.com/library/view/practical-natural-language/9781492054047/assets/pnlp_1014.png)"
   ]
  },
  {
   "cell_type": "code",
   "execution_count": 1,
   "metadata": {},
   "outputs": [],
   "source": [
    "# Google Colab for BioBERT\n",
    "# https://colab.research.google.com/drive/1o3DxuIcQ9LTjwkEk6Db2RGyJqoGC5b55?usp=sharing"
   ]
  },
  {
   "cell_type": "code",
   "execution_count": null,
   "metadata": {},
   "outputs": [],
   "source": []
  }
 ],
 "metadata": {
  "kernelspec": {
   "display_name": "Python 3",
   "language": "python",
   "name": "python3"
  },
  "language_info": {
   "codemirror_mode": {
    "name": "ipython",
    "version": 3
   },
   "file_extension": ".py",
   "mimetype": "text/x-python",
   "name": "python",
   "nbconvert_exporter": "python",
   "pygments_lexer": "ipython3",
   "version": "3.7.9"
  }
 },
 "nbformat": 4,
 "nbformat_minor": 4
}
