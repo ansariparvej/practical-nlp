{
 "cells": [
  {
   "cell_type": "markdown",
   "metadata": {},
   "source": [
    "# Question Answering Systems\n",
    "\n",
    "- How can we get started with the first version of the question-answering system?\n",
    "\n",
    "One way to build an MVP is to start looking at the markup structure of the websites. Generally, the questions and answers are distinguished using different HTML elements. Collecting this information and using it specifically to build an index of question–answer pairs will get us started on a question-answering system for this task. The next step could be using text embeddings and performing a similarity-based search using Elasticsearch.\n",
    "\n",
    "\n",
    "QA aprroaches:\n",
    "\n",
    "- DL-based text embeddings\n",
    "- Knowledge-based question answering, which relies on the presence of a huge knowledge database and a way to map user queries to the database.\n",
    "- Hybrid approach\n",
    "\n",
    "![alt text](https://learning.oreilly.com/library/view/practical-natural-language/9781492054047/assets/pnlp_0709.png)"
   ]
  },
  {
   "cell_type": "code",
   "execution_count": null,
   "metadata": {},
   "outputs": [],
   "source": []
  }
 ],
 "metadata": {
  "kernelspec": {
   "display_name": "Python 3",
   "language": "python",
   "name": "python3"
  },
  "language_info": {
   "codemirror_mode": {
    "name": "ipython",
    "version": 3
   },
   "file_extension": ".py",
   "mimetype": "text/x-python",
   "name": "python",
   "nbconvert_exporter": "python",
   "pygments_lexer": "ipython3",
   "version": "3.7.9"
  }
 },
 "nbformat": 4,
 "nbformat_minor": 4
}
