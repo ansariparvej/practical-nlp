{
 "cells": [
  {
   "cell_type": "markdown",
   "metadata": {},
   "source": [
    "# Machine Translation\n",
    "\n",
    "Two examples scenarios where MT may be required:\n",
    "- Our client’s products are used by people around the world who leave reviews on social media in multiple languages. Our client wants to know the general sentiment of those reviews. For this, instead of looking for sentiment analysis tools in multiple languages, one option is to use an MT system, translate all the reviews into one language, and run sentiment analysis for that language.\n",
    "- We work with a lot of social media data (e.g., tweets) on a regular basis and notice that it’s unlike the kind of text we encounter in typical text documents. For example, consider the sentence, “am gud,” which, in formal, well-formed English is, “I am good.” (More details on how social media text differs from normal, well-formed text are in Chapter 8.) MT can be used to map these two sentences by treating the conversion from “am gud” to “I am good” as an informal-to-grammatical English translation problem.\n",
    "\n",
    "# Practical Advice\n",
    "\n",
    "First, as we explained earlier, don’t build your own MT system if you don’t have to. It’s more practical to make use of translation APIs. When using such APIs, it’s important to pay close attention to pricing policies. Considering the costs involved, it might be a good idea to store the translations of frequently used text (called a translation memory or a translation cache).\n",
    "\n",
    "> Maintain a translation memory, which can be used for translations that repeat frequently.\n",
    "\n",
    "> Data augmentation is a useful approach to collect more training data for building an MT system."
   ]
  },
  {
   "cell_type": "code",
   "execution_count": 1,
   "metadata": {},
   "outputs": [],
   "source": [
    "import os, requests, uuid, json"
   ]
  },
  {
   "cell_type": "code",
   "execution_count": 2,
   "metadata": {},
   "outputs": [],
   "source": [
    "#You will need a subscription key - you can use trial version\n",
    "subscription_key = \"XXXX\"\n",
    "endpoint = \"https://api-nam.cognitive.microsofttranslator.com\"\n",
    "path = '/translate?api-version=3.0'\n",
    "params = '&to=de' #From English to German (de)\n",
    "constructed_url = endpoint + path + params"
   ]
  },
  {
   "cell_type": "code",
   "execution_count": 3,
   "metadata": {},
   "outputs": [
    {
     "name": "stdout",
     "output_type": "stream",
     "text": [
      "{\n",
      "    \"error\": {\n",
      "        \"code\": 401000,\n",
      "        \"message\": \"The request is not authorized because credentials are missing or invalid.\"\n",
      "    }\n",
      "}\n"
     ]
    }
   ],
   "source": [
    "headers = {\n",
    "    'Ocp-Apim-Subscription-Key': subscription_key,\n",
    "    'Content-type': 'application/json',\n",
    "    'X-ClientTraceId': str(uuid.uuid4())\n",
    "}\n",
    "\n",
    "body = [{'text' : 'How good is Machine Translation?'}]\n",
    "request = requests.post(constructed_url, headers=headers, json=body)\n",
    "response = request.json()\n",
    "\n",
    "print(json.dumps(response, sort_keys=True, indent=4, separators=(',', ': ')))"
   ]
  },
  {
   "cell_type": "code",
   "execution_count": null,
   "metadata": {},
   "outputs": [],
   "source": []
  }
 ],
 "metadata": {
  "kernelspec": {
   "display_name": "Python 3",
   "language": "python",
   "name": "python3"
  },
  "language_info": {
   "codemirror_mode": {
    "name": "ipython",
    "version": 3
   },
   "file_extension": ".py",
   "mimetype": "text/x-python",
   "name": "python",
   "nbconvert_exporter": "python",
   "pygments_lexer": "ipython3",
   "version": "3.7.9"
  }
 },
 "nbformat": 4,
 "nbformat_minor": 4
}
