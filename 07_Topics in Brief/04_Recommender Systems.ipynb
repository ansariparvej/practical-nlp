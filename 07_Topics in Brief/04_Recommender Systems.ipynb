{
 "cells": [
  {
   "cell_type": "markdown",
   "metadata": {},
   "source": [
    "# Recommender Systems\n",
    "\n",
    "A common approach to building recommendation systems is a method called **collaborative filtering**. It shows recommendations to users based on their past history and on what users with similar profiles preferred in the past. For example, Netflix recommendations use this type of approach at a large scale.\n",
    "\n",
    "In contrast, there are **content-based recommendation systems**. An example of one such recommendation is the “related articles” feature on newspaper websites."
   ]
  },
  {
   "cell_type": "markdown",
   "metadata": {},
   "source": [
    "# Practical Advice\n",
    "\n",
    "-  We may have to consider aspects beyond text in many applications where we need to provide more personalized recommendations or where other non-textual aspects of the item need to be considered.\n",
    "- In a real-world project, the impact of recommendations can be measured by \n",
    "    - Performance indicators, such as user click-through rates, conversion into a purchase (if relevant), customer engagement on the website, etc.\n",
    "    -  A/B tests where different groups of users are exposed to different recommendations are used to compare these performance indicators\n",
    "    - Conduct carefully designed user studies where participants are shown specific recommendations and asked to rate them\n",
    "- Our pre-processing decisions play a significant role in the recommendations served by our system."
   ]
  },
  {
   "cell_type": "code",
   "execution_count": 1,
   "metadata": {},
   "outputs": [],
   "source": [
    "from nltk.tokenize import word_tokenize\n",
    "from gensim.models.doc2vec import Doc2Vec, TaggedDocument"
   ]
  },
  {
   "cell_type": "code",
   "execution_count": 2,
   "metadata": {},
   "outputs": [],
   "source": [
    "#Read the dataset’s README to understand the data format. \n",
    "data_path = \"Data/booksummaries/booksummaries.txt\"\n",
    "mydata = {} #titles-summaries dictionary object\n",
    "for line in open(data_path, encoding=\"utf-8\"):\n",
    "    temp = line.split(\"\\t\")\n",
    "    mydata[temp[2]] = temp[6]"
   ]
  },
  {
   "cell_type": "code",
   "execution_count": 3,
   "metadata": {},
   "outputs": [],
   "source": [
    "#prepare the data for doc2vec, build and save a doc2vec model\n",
    "train_doc2vec = [TaggedDocument((word_tokenize(mydata[t])), tags=[t]) for t in mydata.keys()]\n",
    "model = Doc2Vec(vector_size=50, alpha=0.025, min_count=10, dm =1, epochs=100)\n",
    "model.build_vocab(train_doc2vec)\n",
    "model.train(train_doc2vec, total_examples=model.corpus_count, epochs=model.epochs)\n",
    "model.save(\"d2v.model\")"
   ]
  },
  {
   "cell_type": "code",
   "execution_count": 4,
   "metadata": {},
   "outputs": [
    {
     "name": "stdout",
     "output_type": "stream",
     "text": [
      "[('Animal Farm', 0.7243597507476807), (\"Snowball's Chance\", 0.630096971988678), ('Ponni', 0.5955080389976501), ('Texas Fever', 0.5681833028793335), ('Magic Mirror', 0.5526887774467468), ('Family Matters', 0.5509688854217529), ('Space Tug', 0.5502750873565674), ('The Dawning Light', 0.5458624958992004), ('The Winds of Darkover', 0.5410207509994507), ('Walk in My Soul', 0.5406631231307983)]\n"
     ]
    }
   ],
   "source": [
    "#Use the model to look for similar texts\n",
    "model = Doc2Vec.load(\"d2v.model\")\n",
    "\n",
    "#This is a sentence from the summary of “Animal Farm” on Wikipedia:\n",
    "#https://en.wikipedia.org/wiki/Animal_Farm\n",
    "sample = \"\"\"\n",
    "Napoleon enacts changes to the governance structure of the farm, replacing meetings with a committee of pigs who will run the farm.\n",
    " \"\"\"\n",
    "new_vector = model.infer_vector(word_tokenize(sample))\n",
    "sims = model.docvecs.most_similar([new_vector]) #gives 10 most similar titles\n",
    "print(sims)"
   ]
  },
  {
   "cell_type": "code",
   "execution_count": null,
   "metadata": {},
   "outputs": [],
   "source": []
  }
 ],
 "metadata": {
  "kernelspec": {
   "display_name": "Python 3",
   "language": "python",
   "name": "python3"
  },
  "language_info": {
   "codemirror_mode": {
    "name": "ipython",
    "version": 3
   },
   "file_extension": ".py",
   "mimetype": "text/x-python",
   "name": "python",
   "nbconvert_exporter": "python",
   "pygments_lexer": "ipython3",
   "version": "3.7.9"
  }
 },
 "nbformat": 4,
 "nbformat_minor": 4
}
