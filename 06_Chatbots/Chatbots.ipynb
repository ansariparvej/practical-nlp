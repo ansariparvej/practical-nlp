{
 "cells": [
  {
   "cell_type": "markdown",
   "metadata": {},
   "source": [
    "# Applications\n",
    "\n",
    "- **Shopping and e-commerce:** conversational recommendation systems\n",
    "- **News and content discovery:** Users may specify various nuances of their search in a conversational manner, and the bot should be able respond with relevant articles.\n",
    "- **Customer service:** to lodge complaints, help answer FAQs, navigate queries in pre-defined conversational flows\n",
    "- **Medical:** Help patients fecth relevant information quickly based on their symptoms.\n",
    "- **Legal:** answer FAQs\n",
    "\n",
    "A Simple FAQ Bot is generally a search-based system where, given a question, it looks for correct answers for user. Amazon Machine Learning Frequently Asked Questions."
   ]
  },
  {
   "cell_type": "markdown",
   "metadata": {},
   "source": [
    "# A Taxonomy of Chatbots\n",
    "\n",
    "A way of looking at these chatbots is how they interact with the user:\n",
    "- Exact answer or FAQ bot with limited conversations\n",
    "    - These chatbots are linked to a fixed set of responses and retrieve a correct response based on understanding the user’s query.\n",
    "- Flow-based bot\n",
    "    - Users may gradually express their opinions or requests over the course of conversations.\n",
    "- Open-ended bot\n",
    "    -  Intended mainly for entertainment, where the bot is supposed to converse with the user about various topics\n",
    "\n",
    "Two broad categories:\n",
    "1. Goal-Oriented Dialog\n",
    "    - The natural human purpose of having a conversation is to accomplish a goal via relevant information seeking.\n",
    "    - The goal-oriented systems are domain-specific, which requires domain-specific knowledge in the system.\n",
    "2. Chitchats\n",
    "    - Humans also engage in unstructured, open-domain conversations without any specific goals.\n",
    "    - A conversational agent must generate coherent, on-topic, and factually correct responses to make the dialog more natural."
   ]
  },
  {
   "cell_type": "markdown",
   "metadata": {},
   "source": [
    "# A Pipeline for Building Dialog Systems\n",
    "\n",
    "1. Speech recognition\n",
    "    - The input is human speech.\n",
    "    - Then speech recognition algorithms transcribe speech to natural text.\n",
    "2. Natural Language Understanding (NLU)\n",
    "    - The system tries to analyze and 'understand' the transcribed text.\n",
    "3. Dialog and Task Manager\n",
    "    - Dialog manager gathers and systematically decides which pieces of information are important or not.\n",
    "    - The dialog manager develops a strategy via rules or other complex mechanism, such as reinforcement learning, to effectively utilize the information obtained from the input.\n",
    "4. Natural Language Generation (NLG)\n",
    "    - Generates a response in a human-readable form according to the strategy devised by the dialog manager.\n",
    "![alt text](https://learning.oreilly.com/library/view/practical-natural-language/9781492054047/assets/pnlp_0603.png)\n",
    "\n",
    "> Tip: Any chatbot can be built using such a pipeline. For text-based chatbots, we can remove the speech processing components. While the NLU and generation component can be complex, a dialog manager could simply be rules routing the bot to an appropriate response generator."
   ]
  },
  {
   "cell_type": "markdown",
   "metadata": {},
   "source": [
    "# Dialog Systems in Detail\n",
    "\n",
    "Terminology used:\n",
    "- **Dialog act or intent:** the aim of a user command, or in traditional systems, the intent is a primary descriptor.\n",
    "- **Slot or entity:** the fixed ontological construct that holds information regarding specific entities related to the intent.\n",
    "- **Dialog state or context:** Ontological construct that contains both the information about the dialog act as well as state-value pairs.\n",
    "\n",
    "[Dialog Flow Google](https://dialogflow.cloud.google.com/)\n",
    "\n",
    "> Tip: Dialogflow allows us to build goal-oriented chatbots. It’s important to have an extensive ontology (possible slots and intents) for our domain, as it will make our bot rich in responding to varied user queries."
   ]
  },
  {
   "cell_type": "markdown",
   "metadata": {},
   "source": [
    "# Deep Dive into Components of a Dialog System\n",
    "\n",
    "- Dialog Act Classification\n",
    "\n",
    "Dialog act classification is a task to identify how the user utterance plays a role in the context of dialog.\n",
    "\n",
    "> Tip: Building dialog act classification and slot identification from scratch can be a complex and data-consuming process. Doing so makes sense when our dialog acts and slots are more open-ended in nature than a Cloud API or existing framework can solve. Having complete control of dialog internals can yield better results over time in such problems.\n",
    "\n",
    "- Identifying Slots\n",
    "\n",
    "Once we've extracted the intents, we want to move on to extracting entities. Extracting entities is also important for generating correct and appropriate responses to the user's input. \n",
    "\n",
    "> Tip: We can choose a range of ontologies for annotating entities. Imagine we’re building a travel bot. The choice of entity for the destination can be city or airport. To make it robust, we must detect airports as an entity since one city can have multiple airports. On the other hand, in the case of a restaurant-booking bot, detecting cities as an entity is probably suitable.\n",
    "\n",
    "Previously, in our Dialogflow examples, we saw that slots have to be pre-defined beforehand. But here, we want to build this component on our own using an ML algorithm.\n",
    "\n",
    "Disadvantages:\n",
    "1. They need a lot of labeled data for both intent and entity detection\n",
    "2. We need dedicated models for both of the tasks\n",
    "\n",
    "\n",
    "- Response Generation\n",
    "\n",
    "Generate an appropriate response. There are many ways:\n",
    "1. Fixed responses\n",
    "2. Use of templates\n",
    "3. Automatic generation\n",
    "\n",
    "> Tip: While automatic generation is robust, template generation has advantages over it. It might be hard to distinguish between the two, especially when the template variety is high, Template-based responses contain fewer grammatical errors and are easier to train."
   ]
  },
  {
   "cell_type": "markdown",
   "metadata": {},
   "source": [
    "# Dialog Examples with Code Walkthrough"
   ]
  },
  {
   "cell_type": "markdown",
   "metadata": {},
   "source": [
    "## Dialog Act Prediction"
   ]
  },
  {
   "cell_type": "code",
   "execution_count": 1,
   "metadata": {},
   "outputs": [],
   "source": [
    "# Google Colab\n",
    "# https://colab.research.google.com/drive/1hxPCK69zGmD_3g3vwm_yD5JcBdeZSTPL?usp=sharing"
   ]
  },
  {
   "cell_type": "markdown",
   "metadata": {},
   "source": [
    "## Slot Identification"
   ]
  },
  {
   "cell_type": "code",
   "execution_count": 2,
   "metadata": {},
   "outputs": [],
   "source": [
    "# Google Colab\n",
    "# https://colab.research.google.com/drive/1xb-fAiP9AOe3eRTN-Yy1K3KJ-ZpgNTTJ?usp=sharing"
   ]
  },
  {
   "cell_type": "markdown",
   "metadata": {},
   "source": [
    "> Note: As we’ve seen before and here as well, pre-trained models help get better performance over other DL models learned from scratch. There could be exceptions, as pre-trained models are sensitive to the size of the data. Pre-trained models may overfit on smaller datasets, and handcrafted features may generalize well in those cases."
   ]
  },
  {
   "cell_type": "markdown",
   "metadata": {},
   "source": [
    "# Other Dialog Pipelines\n",
    "\n",
    "1. End-to-End Approach\n",
    "    - Seq2seq models, generally take a sequence as input and output another sequence.\n",
    "    - Seq2seq is capable of capturing the inherent order of the token in the sequence—this is important, as it ensures that we capture the right meaning of the question in order to answer it correctly.\n",
    "\n",
    "\n",
    "2. Deep Reinforcement Learning for Dialogue Generation\n",
    "    - The combination of two ideas: goal-oriented dialog and seq2seq-based generation. Reinforcement learning can help us here.\n",
    "    -  The machine tries to learn to generate the best response based on a futuristic reward defined by the user, which is directly related to how likely the current response is to achieve the final goal.\n",
    "\n",
    "\n",
    "3. Human-in-the-Loop\n",
    "    - The machine may improve its performance if humans intervene in its learning process and reward or penalize based on the correct or incorrect response.\n",
    "    - When humans intervene in a machine’s learning process, it’s termed as *human-in-the-loop*.\n",
    "    \n",
    "> TIP: Human-in-the-loop is ultimately a more practical system to deploy than a completely automated dialog generation system. End-to-end models are efficient to train, but they may not be reliable in producing factually correct outputs. Hence, a hybrid system with the combination of end-to-end dialog generation framework and with human resources will be more reliable and robust.\n"
   ]
  },
  {
   "cell_type": "markdown",
   "metadata": {},
   "source": [
    "# RasaNLU\n",
    "\n",
    "Rasa's available features:\n",
    "1. Context-based conversations\n",
    "    - allows users to capture and utilize the conversation context or dialog state\n",
    "2. Interactive learning\n",
    "    - Rasa offers an interactive interface that can be used for two purposes. One is to create more training data for the internal models by chatting with the bot. The second is to provide feedback when the models make mistakes.\n",
    "3. Data annotation\n",
    "    - Data annotation can be done from scratch or modified from examples where labels are already predicted by the existing models.\n",
    "4. API integration\n",
    "    - the dialog service can also be integrated with other APIs as well as chat platforms like Slack, Facebook, Google Home, and Amazon Alexa.\n",
    "5. Customize your models in Rasa\n",
    "    - Rasa also allows us to customize our models by choosing from a pool of models.\n",
    "    \n",
    "\n",
    "> TIP: Rasa enables us to build our chatbot in a modular way. For example, we can start with existing pre-trained models and later use custom models built on our specific datasets as needed. Similarly, we can start default API integrations and conversation channels and modify them when needed."
   ]
  },
  {
   "cell_type": "markdown",
   "metadata": {},
   "source": [
    "> TIP: Open-ended chatbots are generally harder to evaluate because many variants of a response can be correct given the context. Human evaluation seems to be most efficient, but it’s irreproducible and therefore harder to compare to other systems. A mix of automatic and human evaluation is the right way to evaluate generative dialog systems."
   ]
  },
  {
   "cell_type": "code",
   "execution_count": null,
   "metadata": {},
   "outputs": [],
   "source": []
  }
 ],
 "metadata": {
  "kernelspec": {
   "display_name": "Python 3",
   "language": "python",
   "name": "python3"
  },
  "language_info": {
   "codemirror_mode": {
    "name": "ipython",
    "version": 3
   },
   "file_extension": ".py",
   "mimetype": "text/x-python",
   "name": "python",
   "nbconvert_exporter": "python",
   "pygments_lexer": "ipython3",
   "version": "3.7.9"
  }
 },
 "nbformat": 4,
 "nbformat_minor": 4
}
